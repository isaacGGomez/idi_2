{
 "cells": [
  {
   "cell_type": "markdown",
   "metadata": {},
   "source": [
    "## Tarea 4. Gradiente Descendente\n",
    "\n",
    "Realice código en Python que, recibiendo una función $f$ dada, un valor inicial $x_o$ y una exactitud error dado $E$, use el método de gradiente descendente (ascendente) para encontrar un mínimo (máximo) local de $f$. Asegúrese que cuenta el número de iteraciones realizadas.\n",
    "\n",
    "Use su código para encontrar (si existe) los mínimos y máximos locales de cada función con precisión de 4 cifras significativas. y exactitud de $10^{-3}$. En todos los casos indique el(los) valor(es) inicial(es) que utilizó y el número de iteraciones que fueron necesarias para alcanzar la respuesta.\n",
    "\n",
    "#### 1. $x^{4} - 3 x^{3} + 2$\n",
    "\n",
    "Para la función 1 se presenta la solución en x = 2.250 valor inicial x = 2 con 4 iteraciones y un error de 4.957E-119\n",
    "\n",
    "#### 2. $5 x^{6} + 21 x^{5} - 180 x^{4} + 115 x^{3} + 750 x^{2} - 1260 x + 10$\n",
    "\n",
    "Para la 2 se presenta la solución en x = -6.542 valor inicial x = -7.8 con 5000 iteraciones y un error de 3.811E+4\n",
    "\n",
    "Para la función 2 se presenta la solución en x = -1.500 valor inicial x = -1.5 con 1 iteraciones y un error de 3.172E-117\n",
    "\n",
    "Para la función 2 se presenta la solución en x = 2.013 valor inicial x = 2.2 con 2000 iteraciones y un error de 0.1520\n",
    "\n",
    "#### 3. $x^{2} - 24 x + y^{2} - 10 y$\n",
    "Para la función 3 se presenta la solución en x = 12.00 & y = 5.001 valor inicial x = 13 & y = 6 con 35 iteraciones y un error de 0.0009766\n",
    "\n",
    "#### 4. $x y + \\frac{1}{y} + \\frac{1}{x}$\n",
    "Para la función 4 se presenta la solución en x = 1.000 & y = 0.9990 valor inicial x = 0.5 & y = 0.5 con 104 iteraciones y un error de 0.0009766\n",
    "\n",
    "#### 5. $\\sin{\\left(x \\right)} + \\sin{\\left(y \\right)} + \\sin{\\left(x + y \\right)}$\n",
    "Para la función sin(x) + sin(y) + sin(x + y) se presenta la solución en x = 1.000 & y = 1.000 valor inicial x = 1 & y = 1 con 2000 iteraciones y un error de 0.1242\n",
    "\n",
    "#### 6. $x^{2} + y^{2} + z^{2} + 1$\n",
    "Para la función x**2 + y**2 + z**2 + 1 se presenta la solución en x = 0.0004992 , y = 0.0005000 & z 0.0005000 valor inicial x = 0.5 , y = 0.5 & z = 0.5 con 4315 iteraciones y un error de 0.0009999\n",
    "\n",
    "#### 7. $3 x^{2} - 9 x y z + 4 y^{2} + z^{2}$\n",
    "Para la función 3*x**2 - 9*x*y*z + 4*y**2 + z**2 se presenta la solución en x = 0.0001666 , y = 0.00003233 & z 0.01183 valor inicial x = 0.1 , y = 0.1 & z = 0.1 con 2771 iteraciones y un error de 0.0009983\n",
    "\n",
    "#### 8. $x^{4} + y^{4} + z^{4} + x y z $\n",
    "Para la función x**4 + x*y*z + y**4 + z**4 se presenta la solución en x = -0.2538 , y = -0.2538 & z -0.2538 valor inicial x = -1 , y = -1 & z = -1 con 500 iteraciones y un error de 0.0009989\n"
   ]
  },
  {
   "cell_type": "markdown",
   "metadata": {},
   "source": [
    "## Anexo 1. Codigo Empleado"
   ]
  },
  {
   "cell_type": "code",
   "execution_count": 1,
   "metadata": {
    "collapsed": true
   },
   "outputs": [],
   "source": [
    "import sympy as sp\n",
    "x = sp.symbols(\"x\")\n",
    "y = sp.symbols(\"y\")\n",
    "z = sp.symbols(\"z\")\n",
    "vars = [x,y,z]\n",
    "iter_max = 2000\n",
    "Error = 1e-3\n",
    "ex = 4\n"
   ]
  },
  {
   "cell_type": "code",
   "execution_count": 78,
   "metadata": {},
   "outputs": [],
   "source": [
    "def descgrad(f,xi=0,yi=0,zi=0,alpha = 0.1,maxiter = iter_max,type = True):\n",
    "    xi = xi\n",
    "    yi = yi\n",
    "    zi = zi\n",
    "    count = 0\n",
    "    solution = sp.Matrix([xi,yi,zi])\n",
    "    gradvec = []\n",
    "    for var in vars:\n",
    "        gradvec.append(sp.diff(f,var))\n",
    "    gradvec = sp.Matrix(gradvec)\n",
    "    while True:\n",
    "        count += 1\n",
    "        error = 0\n",
    "        for i in range(len(gradvec)):\n",
    "            grad_eval =  gradvec[i].evalf(ex, subs = {x:solution[0],y:solution[1],z:solution[2]})\n",
    "            error += abs(grad_eval)\n",
    "            solution[i] = (solution[i]-alpha*grad_eval).evalf(ex)\n",
    "            if type:\n",
    "                solution[i] = (solution[i]-alpha*grad_eval).evalf(ex)\n",
    "            else:\n",
    "                solution[i] = (solution[i]+alpha*grad_eval).evalf(ex)\n",
    "            if(Error > error or count == maxiter):\n",
    "                return  xi,yi,zi,f, solution.tolist()[0],solution.tolist()[1],solution.tolist()[2], count, error.evalf(ex)"
   ]
  },
  {
   "cell_type": "code",
   "execution_count": 79,
   "metadata": {},
   "outputs": [
    {
     "name": "stdout",
     "output_type": "stream",
     "text": [
      "Para la función x**4 - 3*x**3 + 2 se presenta la solución en x = 2.250 valor inicial x = 2 con 4 iteraciones y un error de 4.957E-119\n",
      "x^{4} - 3 x^{3} + 2\n"
     ]
    }
   ],
   "source": [
    "f1 = x**4 - 3*x**3 + 2\n",
    "x1,_,_,f1,solx1,soly1,solz1,iterf1,errorf1 = descgrad(f1,2,alpha=0.025)\n",
    "print(\"Para la función {} se presenta la solución en x = {} valor inicial x = {} con {} iteraciones y un error de {}\".format(f1,solx1[0],x1,iterf1,errorf1))\n",
    "sp.print_latex(f1)"
   ]
  },
  {
   "cell_type": "code",
   "execution_count": 133,
   "metadata": {},
   "outputs": [
    {
     "name": "stdout",
     "output_type": "stream",
     "text": [
      "Para la función 5*x**6 + 21*x**5 - 180*x**4 + 115*x**3 + 750*x**2 - 1260*x + 10 se presenta la solución en x = -6.542 valor inicial x = -7.8 con 3000 iteraciones y un error de 3.811E+4\n",
      "5 x^{6} + 21 x^{5} - 180 x^{4} + 115 x^{3} + 750 x^{2} - 1260 x + 10\n"
     ]
    }
   ],
   "source": [
    "f2 = 5*x**6 + 21*x**5 - 180*x**4 + 115*x**3 + 750*x**2 - 1260*x + 10\n",
    "x2,_,_,f2,solx2,_,_,iterf2,errorf2 = descgrad(f2,xi=-7.8,alpha=.00001,maxiter=3000)\n",
    "print(\"Para la función {} se presenta la solución en x = {} valor inicial x = {} con {} iteraciones y un error de {}\".format(f2,solx2[0],x2,iterf2,errorf2))\n",
    "sp.print_latex(f2)"
   ]
  },
  {
   "cell_type": "code",
   "execution_count": 101,
   "metadata": {},
   "outputs": [
    {
     "name": "stdout",
     "output_type": "stream",
     "text": [
      "Para la función 5*x**6 + 21*x**5 - 180*x**4 + 115*x**3 + 750*x**2 - 1260*x + 10 se presenta la solución en x = -1.500 valor inicial x = -1.5 con 1 iteraciones y un error de 3.172E-117\n"
     ]
    }
   ],
   "source": [
    "x2,_,_,f2,solx2,_,_,iterf2,errorf2=descgrad(f2,xi=-1.5,alpha=0.0001,maxiter=5000,type=False)\n",
    "print(\"Para la función {} se presenta la solución en x = {} valor inicial x = {} con {} iteraciones y un error de {}\".format(f2,solx2[0],x2,iterf2,errorf2))\n"
   ]
  },
  {
   "cell_type": "code",
   "execution_count": 117,
   "metadata": {},
   "outputs": [
    {
     "name": "stdout",
     "output_type": "stream",
     "text": [
      "Para la función 5*x**6 + 21*x**5 - 180*x**4 + 115*x**3 + 750*x**2 - 1260*x + 10 se presenta la solución en x = 2.013 valor inicial x = 2.2 con 2000 iteraciones y un error de 0.1520\n"
     ]
    }
   ],
   "source": [
    "x2,_,_,f2,solx2,_,_,iterf2,errorf2=descgrad(f2,xi=2.2,alpha=0.0001)\n",
    "print(\"Para la función {} se presenta la solución en x = {} valor inicial x = {} con {} iteraciones y un error de {}\".format(f2,solx2[0],x2,iterf2,errorf2))"
   ]
  },
  {
   "cell_type": "code",
   "execution_count": 72,
   "metadata": {},
   "outputs": [
    {
     "name": "stdout",
     "output_type": "stream",
     "text": [
      "Para la función x**2 - 24*x + y**2 - 10*y se presenta la solución en x = 12.00 & y = 5.001 valor inicial x = 13 & y = 6 con 35 iteraciones y un error de 0.0009766\n",
      "x^{2} - 24 x + y^{2} - 10 y\n"
     ]
    }
   ],
   "source": [
    "f3 = x**2 - 24*x + y**2 - 10*y\n",
    "x3,y3,_,f3,solx3,soly3,_,iterf3,errorf3 = descgrad(f3,13,6,alpha=.1)\n",
    "print(\"Para la función {} se presenta la solución en x = {} & y = {} valor inicial x = {} & y = {} con {} iteraciones y un error de {}\".format(f3,solx3[0],soly3[0],x3,y3,iterf3,errorf3))\n",
    "sp.print_latex(f3)"
   ]
  },
  {
   "cell_type": "code",
   "execution_count": 73,
   "metadata": {},
   "outputs": [
    {
     "name": "stdout",
     "output_type": "stream",
     "text": [
      "Para la función x*y + 1/y + 1/x se presenta la solución en x = 1.000 & y = 0.9990 valor inicial x = 0.5 & y = 0.5 con 104 iteraciones y un error de 0.0009766\n",
      "x y + \\frac{1}{y} + \\frac{1}{x}\n"
     ]
    }
   ],
   "source": [
    "f4 = x*y + 1/x + 1/y\n",
    "x4,y4,_,f4,solx4,soly4,_,iterf4,errorf4 = descgrad(f4,0.5,0.5,alpha=.02)\n",
    "print(\"Para la función {} se presenta la solución en x = {} & y = {} valor inicial x = {} & y = {} con {} iteraciones y un error de {}\".format(f4,solx4[0],soly4[0],x4,y4,iterf4,errorf4))\n",
    "sp.print_latex(f4)"
   ]
  },
  {
   "cell_type": "code",
   "execution_count": 134,
   "metadata": {},
   "outputs": [
    {
     "name": "stdout",
     "output_type": "stream",
     "text": [
      "Para la función sin(x) + sin(y) + sin(x + y) se presenta la solución en x = 1.000 & y = 1.000 valor inicial x = 1 & y = 1 con 2000 iteraciones y un error de 0.1242\n",
      "\\sin{\\left(x \\right)} + \\sin{\\left(y \\right)} + \\sin{\\left(x + y \\right)}\n"
     ]
    }
   ],
   "source": [
    "f5 = sp.sin(x) + sp.sin(y) + sp.sin(x+y)\n",
    "x5,y5,_,f5,solx5,soly5,_,iterf5,errorf5 = descgrad(f5,1,1,alpha=.2,type=False)\n",
    "print(\"Para la función {} se presenta la solución en x = {} & y = {} valor inicial x = {} & y = {} con {} iteraciones y un error de {}\".format(f5,solx5[0],soly5[0],x5,y5,iterf5,errorf5))\n",
    "sp.print_latex(f5)"
   ]
  },
  {
   "cell_type": "code",
   "execution_count": 75,
   "metadata": {},
   "outputs": [
    {
     "name": "stdout",
     "output_type": "stream",
     "text": [
      "Para la función x**2 + y**2 + z**2 + 1 se presenta la solución en x = 0.0004992 , y = 0.0005000 & z 0.0005000 valor inicial x = 0.5 , y = 0.5 & z = 0.5 con 4315 iteraciones y un error de 0.0009999\n",
      "x^{2} + y^{2} + z^{2} + 1\n"
     ]
    }
   ],
   "source": [
    "f6 = x**2 + y**2 + z**2 + 1\n",
    "x6,y6,z6,f6,solx6,soly6,solz6,iterf6,errorf6 = descgrad(f6,0.5,0.5,0.5,alpha = 0.0008,maxiter=5000)\n",
    "print(\"Para la función {} se presenta la solución en x = {} , y = {} & z {} valor inicial x = {} , y = {} & z = {} con {} iteraciones y un error de {}\".format(f6,solx6[0],soly6[0],solz6[0],x6,y6,z6,iterf6,errorf6))\n",
    "sp.print_latex(f6)"
   ]
  },
  {
   "cell_type": "code",
   "execution_count": 76,
   "metadata": {},
   "outputs": [
    {
     "name": "stdout",
     "output_type": "stream",
     "text": [
      "Para la función 3*x**2 - 9*x*y*z + 4*y**2 + z**2 se presenta la solución en x = 0.0001666 , y = 0.00003233 & z 0.01183 valor inicial x = 0.1 , y = 0.1 & z = 0.1 con 2771 iteraciones y un error de 0.0009983\n",
      "3 x^{2} - 9 x y z + 4 y^{2} + z^{2}\n"
     ]
    }
   ],
   "source": [
    "f7 = 3*x**2 + 4*y**2 + z**2 - 9*x*y*z\n",
    "x7,y7,z7,f7,solx7,soly7,solz7,iterf7,errorf7 = descgrad(f7,0.1,0.1,0.1,alpha=0.0004,maxiter=5000)\n",
    "print(\"Para la función {} se presenta la solución en x = {} , y = {} & z {} valor inicial x = {} , y = {} & z = {} con {} iteraciones y un error de {}\".format(f7,solx7[0],soly7[0],solz7[0],x7,y7,z7,iterf7,errorf7))\n",
    "sp.print_latex(f7)"
   ]
  },
  {
   "cell_type": "code",
   "execution_count": 77,
   "metadata": {},
   "outputs": [
    {
     "name": "stdout",
     "output_type": "stream",
     "text": [
      "Para la función x**4 + x*y*z + y**4 + z**4 se presenta la solución en x = -0.2538 , y = -0.2538 & z -0.2538 valor inicial x = -1 , y = -1 & z = -1 con 500 iteraciones y un error de 0.0009989\n",
      "x^{4} + x y z + y^{4} + z^{4}\n"
     ]
    }
   ],
   "source": [
    "f8 = x**4 + y**4 + z**4 + x*y*z\n",
    "x8,y8,z8,f8,solx8,soly8,solz8,iterf8,errorf8 = descgrad(f8,-1,-1,-1,alpha=0.025)\n",
    "print(\"Para la función {} se presenta la solución en x = {} , y = {} & z {} valor inicial x = {} , y = {} & z = {} con {} iteraciones y un error de {}\".format(f8,solx8[0],soly8[0],solz8[0],x8,y8,z8,iterf8,errorf8))\n",
    "sp.print_latex(f8)"
   ]
  }
 ],
 "metadata": {
  "kernelspec": {
   "display_name": "Python 3 (ipykernel)",
   "language": "python",
   "name": "python3"
  },
  "language_info": {
   "codemirror_mode": {
    "name": "ipython",
    "version": 3
   },
   "file_extension": ".py",
   "mimetype": "text/x-python",
   "name": "python",
   "nbconvert_exporter": "python",
   "pygments_lexer": "ipython3",
   "version": "3.9.15"
  }
 },
 "nbformat": 4,
 "nbformat_minor": 1
}
