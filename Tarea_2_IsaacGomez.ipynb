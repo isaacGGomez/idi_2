{
 "cells": [
  {
   "cell_type": "markdown",
   "metadata": {},
   "source": [
    "# Tarea 2: Metodo de Raphson Multivariable\n",
    "\n",
    "## Soluciones\n",
    "\n",
    "Realice código en Python que, recibiendo un sistema de $n$  ecuaciones no lineales $f_i (x_i,...,x_n) = 0$, un valor inicial $X_0$ y una exactitud (error) dado $E$, encuentre (si existe) mediante el método de Newton-Raphson una aproximación de exactitud menor a $E$ para una solución del sistema. Asegúrese que cuenta el número de iteraciones realizadas.\n",
    "\n",
    "Use su código para resolver los siguientes ejercicios (en todos los casos indique el(los) valor(es) inicial(es) que utilizó y el número de iteraciones que fueron necesarias para alcanzar la respuesta).\n",
    "\n",
    "Escriba sus respuestas con 5 cifras significativas.\n",
    "\n",
    "Encuentre todas las soluciones exactas dentro de $10^{-4}$para:\n",
    "\n",
    "#### **1.** $x^2 + y = 1, x - 2y^2 = 0$\n",
    "Solucion 1 x: 0.65425, y: 0.57195\n",
    "Iteraciones 2\n",
    "Valores Iniciales x: 0.7, y: 0.6\n",
    "\n",
    "Solucion 2 x:1.3496,y:-0.82147\n",
    "Iteraciones 2\n",
    "Valores Iniciales x: 1.36, y: -0.83\n",
    "\n",
    "\n",
    "\n",
    "#### **2.** $x^2 - 10x + y^2 = - 5, xy^2 + x - 10y = -8$\n",
    "Solucion 1 x: 0.62231, y: 0.91424\n",
    "Iteraciones 2\n",
    "Valores iniciales: x: 0.7, y: 1.0\n",
    "\n",
    "Solucion 2 x: 2.0755, y: 3.3834\n",
    "Iteraciones: 2\n",
    "Valores iniciales: x: 2.1, y: 3.4\n",
    "\n",
    "#### **3.** $xsiny = 1, x^2 + y^2 = 4$\n",
    "\n",
    "Solucion 1 x: 1.0120, y: 1.7251\n",
    "Iteraciones: 3\n",
    "Valores iniciales: x: 1.0, y: 2.0\n",
    "\n",
    "\n",
    "Solucion 2 x: 1.9239, y: 0.54659\n",
    "Iteraciones: 2\n",
    "Valores iniciales: x: 2.0, y: 0.5\n",
    "\n",
    "\n",
    "\n",
    "Solucion 3 x: -1.0120, y: -1.7251\n",
    "Iteraciones: 2\n",
    "Valores iniciales: x: -1.1, y: -1.8\n",
    "\n",
    "\n",
    "\n",
    "Solucion 4 x: -1.9239, y: -0.54660\n",
    "Iteraciones: 2\n",
    "Valores iniciales: x: -2.0, y: -0.6\n",
    "\n",
    "\n",
    "\n",
    "#### **4.** $y^2lnx = 3, y = x^2$\n",
    "Solucion x: 1.5931, y: 2.5381\n",
    "Iteraciones: 2\n",
    "Valores iniciales: x: 1.6, y: 2.6\n",
    "\n",
    "\n",
    "\n",
    "#### **5.** $x + y - z = -2, x^2 + y = 0 z - y^2 = 1$\n",
    "\n",
    "\n",
    "Solucion 1: x: 1.0000, y: -1.0000, z: 2.0000\n",
    "Iteraciones: 3\n",
    "Valores iniciales: x: 0.9, y: -0.9, z: 1.9\n",
    "\n",
    "\n",
    "\n",
    "Solucion 2 x: -0.56985, y: -0.32471, z: 1.1054\n",
    "Iteraciones: 2\n",
    "Valores iniciales: x: -0.5, y: -0.3, z: 1.1\n",
    "\n",
    "\n",
    "\n",
    "## Anexo 1. Código empleado\n"
   ]
  },
  {
   "cell_type": "code",
   "execution_count": 1,
   "outputs": [],
   "source": [
    "from sympy.abc import x, y, z\n",
    "from sympy import sin, ln, Matrix, Symbol, pprint\n",
    "\n",
    "def newton_raphson(ecuaciones,valores_iniciales):\n",
    "    ejercicios = ecuaciones\n",
    "    ecuaciones = Matrix(ecuaciones)\n",
    "    x_i = Matrix(list(valores_iniciales.values())).evalf(5)\n",
    "    variables =  list(valores_iniciales.keys())\n",
    "    E  = 10**-4\n",
    "    Jac_inv = ecuaciones.jacobian(variables).inv()\n",
    "    Jac_det = ecuaciones.jacobian(variables).det()\n",
    "    print(f'\\nEcuaciones: {ejercicios}')\n",
    "    step = 0\n",
    "    while True:\n",
    "        subs_dic = dict(zip(variables, x_i))\n",
    "        Jac_det_ev = Jac_det.subs(subs_dic)\n",
    "        if (Jac_det_ev == 0):\n",
    "            print(\"El determinante del Jacobiano es 0, no es posible realizar operaciones\")\n",
    "            break\n",
    "        functions_ev = ecuaciones.subs(subs_dic)\n",
    "        norma = sum(abs(functions_ev))\n",
    "        cumple_exactitud = norma < E\n",
    "        if(cumple_exactitud):\n",
    "            print(f\"Solucion: {subs_dic}. \\nIteraciones: {step}\")\n",
    "            print(f\"Valores iniciales: {valores_iniciales}\")\n",
    "            print(f\"El valor encontrado {norma} es menor que el error {E}\")\n",
    "            break\n",
    "\n",
    "        Jac_inv_eval = Jac_inv.subs(subs_dic)\n",
    "        x_i = (x_i - (Jac_inv_eval * functions_ev)).evalf(5)\n",
    "        step+=1"
   ],
   "metadata": {
    "collapsed": false
   }
  },
  {
   "cell_type": "code",
   "execution_count": 2,
   "metadata": {
    "collapsed": true
   },
   "outputs": [
    {
     "name": "stdout",
     "output_type": "stream",
     "text": [
      "\n",
      "Ecuaciones: [x**2 + y - 1, x - 2*y**2]\n",
      "Solucion: {x: 0.65425, y: 0.57195}. \n",
      "Iteraciones: 2\n",
      "Valores iniciales: {x: 0.7, y: 0.6}\n",
      "El valor encontrado 9.5367E-7 es menor que el error 0.0001\n",
      "\n",
      "Ecuaciones: [x**2 + y - 1, x - 2*y**2]\n",
      "Solucion: {x: 1.3496, y: -0.82147}. \n",
      "Iteraciones: 2\n",
      "Valores iniciales: {x: 1.36, y: -0.83}\n",
      "El valor encontrado 9.5367E-7 es menor que el error 0.0001\n"
     ]
    }
   ],
   "source": [
    "Ejercicio_1 = [x**2+y-1,x-2*y**2]\n",
    "newton_raphson(Ejercicio_1, {x:0.7,y:0.6})\n",
    "newton_raphson(Ejercicio_1, {x:1.36,y:-0.83})"
   ]
  },
  {
   "cell_type": "code",
   "execution_count": 3,
   "metadata": {},
   "outputs": [
    {
     "name": "stdout",
     "output_type": "stream",
     "text": [
      "\n",
      "Ecuaciones: [x**2 - 10*x + y**2 + 5, x*y**2 + x - 10*y + 8]\n",
      "Solucion: {x: 0.62231, y: 0.91424}. \n",
      "Iteraciones: 2\n",
      "Valores iniciales: {x: 0.7, y: 1.0}\n",
      "El valor encontrado 0.000036240 es menor que el error 0.0001\n",
      "\n",
      "Ecuaciones: [x**2 - 10*x + y**2 + 5, x*y**2 + x - 10*y + 8]\n",
      "Solucion: {x: 2.0755, y: 3.3834}. \n",
      "Iteraciones: 2\n",
      "Valores iniciales: {x: 2.1, y: 3.4}\n",
      "El valor encontrado 0 es menor que el error 0.0001\n"
     ]
    }
   ],
   "source": [
    "Ejercicio_2 = [x**2-10*x+y**2+5, x*y**2+x-10*y+8]\n",
    "newton_raphson(Ejercicio_2, {x:0.7,y:1.0})\n",
    "newton_raphson(Ejercicio_2, {x:2.1,y:3.4})"
   ]
  },
  {
   "cell_type": "code",
   "execution_count": 4,
   "outputs": [
    {
     "name": "stdout",
     "output_type": "stream",
     "text": [
      "\n",
      "Ecuaciones: [x*sin(y) - 1, x**2 + y**2 - 4]\n",
      "Solucion: {x: 1.0120, y: 1.7251}. \n",
      "Iteraciones: 3\n",
      "Valores iniciales: {x: 1.0, y: 2.0}\n",
      "El valor encontrado 0.0000038147 es menor que el error 0.0001\n",
      "\n",
      "Ecuaciones: [x*sin(y) - 1, x**2 + y**2 - 4]\n",
      "Solucion: {x: 1.9239, y: 0.54659}. \n",
      "Iteraciones: 2\n",
      "Valores iniciales: {x: 2.0, y: 0.5}\n",
      "El valor encontrado 0.000032902 es menor que el error 0.0001\n",
      "\n",
      "Ecuaciones: [x*sin(y) - 1, x**2 + y**2 - 4]\n",
      "Solucion: {x: -1.0120, y: -1.7251}. \n",
      "Iteraciones: 2\n",
      "Valores iniciales: {x: -1.1, y: -1.8}\n",
      "El valor encontrado 0.000055313 es menor que el error 0.0001\n",
      "\n",
      "Ecuaciones: [x*sin(y) - 1, x**2 + y**2 - 4]\n",
      "Solucion: {x: -1.9239, y: -0.54660}. \n",
      "Iteraciones: 2\n",
      "Valores iniciales: {x: -2.0, y: -0.6}\n",
      "El valor encontrado 0.0000023842 es menor que el error 0.0001\n"
     ]
    }
   ],
   "source": [
    "Ejercicio_3 = [x*sin(y)-1, x**2+y**2-4]\n",
    "newton_raphson(Ejercicio_3, {x:1.0,y:2.0})\n",
    "newton_raphson(Ejercicio_3, {x:2.0,y:0.5})\n",
    "newton_raphson(Ejercicio_3, {x:-1.1,y:-1.8})\n",
    "newton_raphson(Ejercicio_3, {x:-2.0,y:-0.6})"
   ],
   "metadata": {
    "collapsed": false
   }
  },
  {
   "cell_type": "code",
   "execution_count": 5,
   "outputs": [
    {
     "name": "stdout",
     "output_type": "stream",
     "text": [
      "\n",
      "Ecuaciones: [y**2*log(x) - 3, -x**2 + y]\n",
      "Solucion: {x: 1.5931, y: 2.5381}. \n",
      "Iteraciones: 2\n",
      "Valores iniciales: {x: 1.6, y: 2.6}\n",
      "El valor encontrado 0.0000038147 es menor que el error 0.0001\n"
     ]
    }
   ],
   "source": [
    "Ejercicio_4 = [y**2*ln(x)-3, y-x**2]\n",
    "newton_raphson(Ejercicio_4, {x:1.6,y:2.6})"
   ],
   "metadata": {
    "collapsed": false
   }
  },
  {
   "cell_type": "code",
   "execution_count": 6,
   "outputs": [
    {
     "name": "stdout",
     "output_type": "stream",
     "text": [
      "\n",
      "Ecuaciones: [x + y - z + 2, x**2 + y, -y**2 + z - 1]\n",
      "Solucion: {x: 1.0000, y: -1.0000, z: 2.0000}. \n",
      "Iteraciones: 3\n",
      "Valores iniciales: {x: 0.9, y: -0.9, z: 1.9}\n",
      "El valor encontrado 0.0000028610 es menor que el error 0.0001\n",
      "\n",
      "Ecuaciones: [x + y - z + 2, x**2 + y, -y**2 + z - 1]\n",
      "Solucion: {x: -0.56985, y: -0.32471, z: 1.1054}. \n",
      "Iteraciones: 2\n",
      "Valores iniciales: {x: -0.5, y: -0.3, z: 1.1}\n",
      "El valor encontrado 0.000012398 es menor que el error 0.0001\n"
     ]
    }
   ],
   "source": [
    "Ejercicio_5 = [x+y-z+2, x**2+y, z-y**2-1]\n",
    "newton_raphson(Ejercicio_5, {x:0.9,y:-0.9,z:1.9})\n",
    "newton_raphson(Ejercicio_5, {x:-0.5,y:-0.3,z:1.1})"
   ],
   "metadata": {
    "collapsed": false
   }
  }
 ],
 "metadata": {
  "kernelspec": {
   "display_name": "Python 3 (ipykernel)",
   "language": "python",
   "name": "python3"
  },
  "language_info": {
   "codemirror_mode": {
    "name": "ipython",
    "version": 3
   },
   "file_extension": ".py",
   "mimetype": "text/x-python",
   "name": "python",
   "nbconvert_exporter": "python",
   "pygments_lexer": "ipython3",
   "version": "3.9.15"
  }
 },
 "nbformat": 4,
 "nbformat_minor": 1
}
