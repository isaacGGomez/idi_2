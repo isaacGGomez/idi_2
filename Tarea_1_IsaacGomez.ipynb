{
 "cells": [
  {
   "cell_type": "markdown",
   "metadata": {},
   "source": [
    "# Tarea 1: Metodo de Raphson\n",
    "\n",
    "## Soluciones\n",
    "\n",
    "Realice código en Python que, recibiendo una función $f$ dada, un valor inicial $xo$  y una exactitud (error) dado $E$, encuentre una aproximación de exactitud menor a $E$ para $x$ cuando $f(x) = 0$ usando el metodo de Newton - Raphson. Asegurese que cuenta con el número de iteraciones realizadas\n",
    "\n",
    "Use su código para resolver los siguientes ejercicios (en todos los casos indique el(los) valor(es) inicial(es) que utilizó y el número de iteraciones que fueron necesarias para alcanzar la respuesta).\n",
    "\n",
    "Escriba sus respuestas con 10 cifras significativas.\n",
    "\n",
    "Aplique el método de Newton-Raphson para encontrar **todas** las soluciones exactas dentro de $10^{-4}$para:\n",
    "\n",
    "**1.** $x^3 - 2x^2 - 5 = 0$\n",
    "\n",
    "La aproximación para la ecuación es **2.690647448** con **4** iteraciones y valor inicial **3**\n",
    "\n",
    "**2.** $x = cos(x)$\n",
    "\n",
    "La aproximación para la ecuación es **0.7390851332** con **3** iteraciones y valor inicial **2**\n"
   ]
  },
  {
   "cell_type": "code",
   "execution_count": 3,
   "outputs": [],
   "source": [
    "import sympy as sp\n",
    "def newton_rapson(func, x0,exactitud):\n",
    "    valin = x0\n",
    "    funcder = sp.diff(func)\n",
    "    x1 = x0 - func.evalf(subs={x: x0}) / funcder.evalf(subs={x: x0})\n",
    "    t = 1\n",
    "    dif = abs(x1 - x0)\n",
    "    while dif > exactitud:\n",
    "        x0 = x1\n",
    "        x1 = x0 - func.evalf(subs={x: x0}) / funcder.evalf(subs={x: x0})\n",
    "        t += 1\n",
    "        dif = abs(x1-x0)\n",
    "    if abs(x1) < 1:\n",
    "        x1 = round(x1,10)\n",
    "    elif abs(x1) > 1:\n",
    "        x1 = round(x1,9)\n",
    "    print(\"La aproximación para la ecuación {} es {} con {} iteraciones y valor inicial {}\".format(func,x1,t,valin))"
   ],
   "metadata": {
    "collapsed": false
   }
  },
  {
   "cell_type": "code",
   "execution_count": 4,
   "metadata": {
    "collapsed": true
   },
   "outputs": [
    {
     "name": "stdout",
     "output_type": "stream",
     "text": [
      "La aproximación para la ecuación x**3 - 2*x**2 - 5 es 2.690647448 con 4 iteraciones y valor inicial 3\n"
     ]
    }
   ],
   "source": [
    "x = sp.symbols(\"x\")\n",
    "\n",
    "f = x ** 3 - 2 * x ** 2 - 5\n",
    "newton_rapson(f,3,10**-4)"
   ]
  },
  {
   "cell_type": "code",
   "execution_count": 5,
   "metadata": {},
   "outputs": [
    {
     "name": "stdout",
     "output_type": "stream",
     "text": [
      "La aproximación para la ecuación -x + cos(x) es 0.7390851332 con 3 iteraciones y valor inicial 2\n"
     ]
    }
   ],
   "source": [
    "f2 = sp.cos(x) - x\n",
    "newton_rapson(f2,2,10**-4)"
   ]
  },
  {
   "cell_type": "code",
   "execution_count": 6,
   "outputs": [
    {
     "name": "stdout",
     "output_type": "stream",
     "text": [
      "La aproximación para la ecuación -x + 0.3*sin(x) + 0.8 es 1.061999349 con 4 iteraciones y valor inicial 2\n"
     ]
    }
   ],
   "source": [
    "f3 = 0.3*sp.sin(x) -x + 0.8\n",
    "newton_rapson(f3,2,10**-4)"
   ],
   "metadata": {
    "collapsed": false
   }
  },
  {
   "cell_type": "code",
   "execution_count": 7,
   "outputs": [
    {
     "name": "stdout",
     "output_type": "stream",
     "text": [
      "La aproximación para la ecuación log(x - 1) + cos(x - 1) es 1.397748476 con 6 iteraciones y valor inicial 1.7\n"
     ]
    }
   ],
   "source": [
    "f4 = sp.ln(x-1)+sp.cos(x-1)\n",
    "newton_rapson(f4,1.7,10**-4)"
   ],
   "metadata": {
    "collapsed": false
   }
  },
  {
   "cell_type": "code",
   "execution_count": 8,
   "outputs": [
    {
     "name": "stdout",
     "output_type": "stream",
     "text": [
      "La aproximación para la ecuación 3*x**2 - exp(x) es 0.9100075725 con 3 iteraciones y valor inicial 1\n",
      "La aproximación para la ecuación 3*x**2 - exp(x) es -0.4589622676 con 6 iteraciones y valor inicial -3\n",
      "La aproximación para la ecuación 3*x**2 - exp(x) es 3.733079029 con 9 iteraciones y valor inicial 3\n"
     ]
    }
   ],
   "source": [
    "f5 = 3*x**2 - sp.exp(x)\n",
    "newton_rapson(f5,1,10**-4)\n",
    "newton_rapson(f5,-3,10**-4)\n",
    "newton_rapson(f5,3,10**-4)"
   ],
   "metadata": {
    "collapsed": false
   }
  },
  {
   "cell_type": "code",
   "execution_count": 9,
   "outputs": [
    {
     "name": "stdout",
     "output_type": "stream",
     "text": [
      "La aproximación para la ecuación -x + sqrt(5) es 2.236067977 con 2 iteraciones y valor inicial 2\n"
     ]
    }
   ],
   "source": [
    "f6 = sp.sqrt(5) - x\n",
    "newton_rapson(f6,2,10**-4)"
   ],
   "metadata": {
    "collapsed": false
   }
  },
  {
   "cell_type": "code",
   "execution_count": 10,
   "outputs": [
    {
     "name": "stdout",
     "output_type": "stream",
     "text": [
      "La aproximación para la ecuación -exp(0.4*x)*cos(pi*x) + log(x**2 + 1) es 0.4506567479 con 6 iteraciones y valor inicial -1\n"
     ]
    }
   ],
   "source": [
    "f7 = sp.ln(x**2+1)-sp.exp(0.4*x)*sp.cos(sp.pi*x)\n",
    "newton_rapson(f7,-1,10**-6)"
   ],
   "metadata": {
    "collapsed": false
   }
  }
 ],
 "metadata": {
  "kernelspec": {
   "display_name": "Python 3 (ipykernel)",
   "language": "python",
   "name": "python3"
  },
  "language_info": {
   "codemirror_mode": {
    "name": "ipython",
    "version": 3
   },
   "file_extension": ".py",
   "mimetype": "text/x-python",
   "name": "python",
   "nbconvert_exporter": "python",
   "pygments_lexer": "ipython3",
   "version": "3.9.15"
  }
 },
 "nbformat": 4,
 "nbformat_minor": 1
}
